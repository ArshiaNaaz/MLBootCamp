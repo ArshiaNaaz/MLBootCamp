{
 "cells": [
  {
   "cell_type": "code",
   "execution_count": 14,
   "id": "68e090eb-47dc-4493-8914-278c5acb5b1b",
   "metadata": {},
   "outputs": [
    {
     "name": "stdin",
     "output_type": "stream",
     "text": [
      " 1900\n"
     ]
    },
    {
     "name": "stdout",
     "output_type": "stream",
     "text": [
      "1900 is not a leap year\n"
     ]
    }
   ],
   "source": [
    "year=int(input())\n",
    "if (year % 4 == 0 and year %100 != 0) or (year % 400 == 0):\n",
    "    print(\"{} is a leap year\".format(year))\n",
    "else:\n",
    "    print(\"{} is not a leap year\".format(year))\n",
    "    \n",
    "    "
   ]
  },
  {
   "cell_type": "code",
   "execution_count": 4,
   "id": "60eb8ceb-c4e5-4fe1-b6ec-1d9cf8801cd3",
   "metadata": {},
   "outputs": [
    {
     "name": "stdin",
     "output_type": "stream",
     "text": [
      "enter the number of your choice 78\n"
     ]
    },
    {
     "name": "stdout",
     "output_type": "stream",
     "text": [
      "Number too small\n"
     ]
    },
    {
     "name": "stdin",
     "output_type": "stream",
     "text": [
      " 45\n"
     ]
    },
    {
     "name": "stdout",
     "output_type": "stream",
     "text": [
      "Number too small\n"
     ]
    },
    {
     "name": "stdin",
     "output_type": "stream",
     "text": [
      " 34\n"
     ]
    },
    {
     "name": "stdout",
     "output_type": "stream",
     "text": [
      "Number too small\n"
     ]
    },
    {
     "name": "stdin",
     "output_type": "stream",
     "text": [
      " 600\n"
     ]
    },
    {
     "name": "stdout",
     "output_type": "stream",
     "text": [
      "Number too large\n"
     ]
    },
    {
     "name": "stdin",
     "output_type": "stream",
     "text": [
      " 500\n"
     ]
    },
    {
     "name": "stdout",
     "output_type": "stream",
     "text": [
      "Number too large\n"
     ]
    },
    {
     "name": "stdin",
     "output_type": "stream",
     "text": [
      " 400\n"
     ]
    },
    {
     "name": "stdout",
     "output_type": "stream",
     "text": [
      "Number too large\n"
     ]
    },
    {
     "name": "stdin",
     "output_type": "stream",
     "text": [
      " 200\n"
     ]
    },
    {
     "name": "stdout",
     "output_type": "stream",
     "text": [
      "Number too small\n"
     ]
    },
    {
     "name": "stdin",
     "output_type": "stream",
     "text": [
      " 300\n"
     ]
    },
    {
     "name": "stdout",
     "output_type": "stream",
     "text": [
      "Number too small\n"
     ]
    },
    {
     "name": "stdin",
     "output_type": "stream",
     "text": [
      " 350\n"
     ]
    },
    {
     "name": "stdout",
     "output_type": "stream",
     "text": [
      "Number too large\n"
     ]
    },
    {
     "name": "stdin",
     "output_type": "stream",
     "text": [
      " 325\n"
     ]
    },
    {
     "name": "stdout",
     "output_type": "stream",
     "text": [
      "Number too small\n"
     ]
    },
    {
     "name": "stdin",
     "output_type": "stream",
     "text": [
      " 330\n"
     ]
    },
    {
     "name": "stdout",
     "output_type": "stream",
     "text": [
      "Number too small\n"
     ]
    },
    {
     "name": "stdin",
     "output_type": "stream",
     "text": [
      " 335\n"
     ]
    },
    {
     "name": "stdout",
     "output_type": "stream",
     "text": [
      "Number too small\n"
     ]
    },
    {
     "name": "stdin",
     "output_type": "stream",
     "text": [
      " 340\n"
     ]
    },
    {
     "name": "stdout",
     "output_type": "stream",
     "text": [
      "Number too large\n"
     ]
    },
    {
     "name": "stdin",
     "output_type": "stream",
     "text": [
      " 336\n"
     ]
    },
    {
     "name": "stdout",
     "output_type": "stream",
     "text": [
      "Number too small\n"
     ]
    },
    {
     "name": "stdin",
     "output_type": "stream",
     "text": [
      " 337\n"
     ]
    },
    {
     "name": "stdout",
     "output_type": "stream",
     "text": [
      "Number too small\n"
     ]
    },
    {
     "name": "stdin",
     "output_type": "stream",
     "text": [
      " 338\n"
     ]
    },
    {
     "name": "stdout",
     "output_type": "stream",
     "text": [
      "Congratulations! You guessed it right\n"
     ]
    },
    {
     "name": "stdin",
     "output_type": "stream",
     "text": [
      " 0\n"
     ]
    }
   ],
   "source": [
    "import random\n",
    "num=random.randrange(1,1000)\n",
    "a=int(input(\"enter the number of your choice\"))\n",
    "while a>0:\n",
    "    if a>num:\n",
    "        print(\"Number too large\")\n",
    "    elif a<num:\n",
    "        print(\"Number too small\")\n",
    "    else:\n",
    "        print(\"Congratulations! You guessed it right\")\n",
    "        break\n",
    "    a=int(input())\n",
    "    if a==0 or a<0:\n",
    "        break\n",
    "        "
   ]
  },
  {
   "cell_type": "code",
   "execution_count": 6,
   "id": "4e3e284a-5d93-46d0-9cbf-33c80cf3b8f2",
   "metadata": {},
   "outputs": [
    {
     "name": "stdin",
     "output_type": "stream",
     "text": [
      "enter the string hello\n"
     ]
    },
    {
     "name": "stdout",
     "output_type": "stream",
     "text": [
      "h\n",
      "l\n",
      "l\n"
     ]
    }
   ],
   "source": [
    "strg=input(\"enter the string\")\n",
    "l=[\"a\",\"e\",\"i\",\"o\",\"u\"]\n",
    "for i in strg:\n",
    "    if i not in l:\n",
    "        print(i)"
   ]
  },
  {
   "cell_type": "code",
   "execution_count": 2,
   "id": "309b3b30-b39f-4200-96b4-5ccf14a227d2",
   "metadata": {},
   "outputs": [
    {
     "name": "stdin",
     "output_type": "stream",
     "text": [
      " 3\n",
      " 4\n",
      " 5\n",
      " -3\n",
      " 4\n",
      " 0\n"
     ]
    },
    {
     "name": "stdout",
     "output_type": "stream",
     "text": [
      "total sum: 16\n"
     ]
    }
   ],
   "source": [
    "num=int(input())\n",
    "s=0\n",
    "while True:\n",
    "    if num<0:\n",
    "        s+=0\n",
    "    else:\n",
    "        s+=num\n",
    "    num=int(input())\n",
    "    if num==0:\n",
    "        break\n",
    "print(\"total sum:\",s)"
   ]
  },
  {
   "cell_type": "code",
   "execution_count": 3,
   "id": "7972f257-e445-4dae-916b-ddb991d9d130",
   "metadata": {},
   "outputs": [
    {
     "name": "stdin",
     "output_type": "stream",
     "text": [
      " 5\n"
     ]
    },
    {
     "name": "stdout",
     "output_type": "stream",
     "text": [
      "15\n"
     ]
    }
   ],
   "source": [
    "num=int(input())\n",
    "s=0\n",
    "for i in range(num+1):\n",
    "    s+=i\n",
    "print(s)"
   ]
  },
  {
   "cell_type": "code",
   "execution_count": 6,
   "id": "34be11ba-1714-4ef3-b6c6-27317c4794e2",
   "metadata": {},
   "outputs": [
    {
     "name": "stdin",
     "output_type": "stream",
     "text": [
      " 5\n"
     ]
    },
    {
     "name": "stdout",
     "output_type": "stream",
     "text": [
      "120\n"
     ]
    }
   ],
   "source": [
    "num = int(input())\n",
    "factorial=1\n",
    "for i in range(1,num+1):\n",
    "    factorial*=i\n",
    "print(factorial)"
   ]
  },
  {
   "cell_type": "code",
   "execution_count": 7,
   "id": "64583eca-5773-459b-8a42-c04142d4b34d",
   "metadata": {},
   "outputs": [
    {
     "name": "stdout",
     "output_type": "stream",
     "text": [
      "***\n",
      "***\n",
      "***\n",
      "***\n"
     ]
    }
   ],
   "source": [
    "for i in range(4):\n",
    "    print(\"*\"*3)"
   ]
  },
  {
   "cell_type": "code",
   "execution_count": 9,
   "id": "3d0899cb-1044-42db-b59e-6ddfa1dc5b0a",
   "metadata": {},
   "outputs": [
    {
     "name": "stdout",
     "output_type": "stream",
     "text": [
      "*\n",
      "**\n",
      "***\n",
      "****\n"
     ]
    }
   ],
   "source": [
    "for i in range(1,5):\n",
    "    print(\"*\"*i)"
   ]
  },
  {
   "cell_type": "code",
   "execution_count": 12,
   "id": "80d04f8d-4057-4a85-89c3-2548efe1401b",
   "metadata": {},
   "outputs": [
    {
     "name": "stdout",
     "output_type": "stream",
     "text": [
      "****\n",
      "***\n",
      "**\n",
      "*\n"
     ]
    }
   ],
   "source": [
    "for i in range(4,0,-1):\n",
    "    print(\"*\"*i)"
   ]
  },
  {
   "cell_type": "code",
   "execution_count": null,
   "id": "0f3696f9-58fa-42e0-88ab-4f82fa154d55",
   "metadata": {},
   "outputs": [
    {
     "name": "stdin",
     "output_type": "stream",
     "text": [
      " 5\n"
     ]
    },
    {
     "name": "stdout",
     "output_type": "stream",
     "text": [
      "1\n",
      "2\n",
      "3\n",
      "4\n",
      "5\n"
     ]
    }
   ],
   "source": [
    "num=int(input())\n",
    "while num!=0:\n",
    "    for i in range(1,num+1):\n",
    "        print(i)\n",
    "    num=int(input())"
   ]
  },
  {
   "cell_type": "code",
   "execution_count": null,
   "id": "d3e3ceb1-3f53-46ad-a1f4-2979b71a1127",
   "metadata": {},
   "outputs": [],
   "source": []
  }
 ],
 "metadata": {
  "kernelspec": {
   "display_name": "Python 3 (ipykernel)",
   "language": "python",
   "name": "python3"
  },
  "language_info": {
   "codemirror_mode": {
    "name": "ipython",
    "version": 3
   },
   "file_extension": ".py",
   "mimetype": "text/x-python",
   "name": "python",
   "nbconvert_exporter": "python",
   "pygments_lexer": "ipython3",
   "version": "3.10.6"
  }
 },
 "nbformat": 4,
 "nbformat_minor": 5
}
